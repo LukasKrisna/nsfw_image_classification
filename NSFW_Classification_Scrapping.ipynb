{
  "cells": [
    {
      "cell_type": "code",
      "execution_count": null,
      "metadata": {
        "id": "8ARUxTo0wiqs"
      },
      "outputs": [],
      "source": [
        "import os\n",
        "import shutil\n",
        "import requests\n",
        "from tqdm import tqdm\n",
        "from google.colab import files"
      ]
    },
    {
      "cell_type": "code",
      "execution_count": null,
      "metadata": {
        "colab": {
          "base_uri": "https://localhost:8080/"
        },
        "id": "-O64yitZxFBH",
        "outputId": "84f7a8bc-cc14-4c80-a7ff-fa9ad97e97cf"
      },
      "outputs": [
        {
          "output_type": "stream",
          "name": "stdout",
          "text": [
            "Cloning into 'nsfw-detector'...\n",
            "remote: Enumerating objects: 48, done.\u001b[K\n",
            "remote: Counting objects: 100% (48/48), done.\u001b[K\n",
            "remote: Compressing objects: 100% (33/33), done.\u001b[K\n",
            "remote: Total 48 (delta 17), reused 39 (delta 10), pack-reused 0 (from 0)\u001b[K\n",
            "Receiving objects: 100% (48/48), 15.73 MiB | 18.21 MiB/s, done.\n",
            "Resolving deltas: 100% (17/17), done.\n"
          ]
        }
      ],
      "source": [
        "!git clone https://github.com/dsprabowo/nsfw-detector.git"
      ]
    },
    {
      "cell_type": "code",
      "execution_count": null,
      "metadata": {
        "colab": {
          "base_uri": "https://localhost:8080/"
        },
        "id": "-ozj8ZwvxSPr",
        "outputId": "1bb8a191-dca6-4f9d-d616-3e0fdf46ce11"
      },
      "outputs": [
        {
          "output_type": "stream",
          "name": "stdout",
          "text": [
            "drawings  hentai  neutral  porn  sexy\n"
          ]
        }
      ],
      "source": [
        "!ls /content/nsfw-detector/raw_data"
      ]
    },
    {
      "cell_type": "code",
      "execution_count": null,
      "metadata": {
        "id": "FcGIQyb1xZUU"
      },
      "outputs": [],
      "source": [
        "raw_data_path = '/content/nsfw-detector/raw_data'\n",
        "\n",
        "categories = ['drawings', 'hentai', 'neutral', 'porn', 'sexy']\n",
        "\n",
        "# Create directories to save downloaded images\n",
        "output_dir = '/content/nsfw_images'\n",
        "if not os.path.exists(output_dir):\n",
        "    os.makedirs(output_dir)"
      ]
    },
    {
      "cell_type": "code",
      "execution_count": null,
      "metadata": {
        "id": "LnPb0NSEpvyM"
      },
      "outputs": [],
      "source": [
        "for category in categories:\n",
        "    class_dir = os.path.join(output_dir, category)\n",
        "    os.makedirs(class_dir, exist_ok=True)"
      ]
    },
    {
      "cell_type": "code",
      "execution_count": null,
      "metadata": {
        "id": "YdhNXDKVqrD2"
      },
      "outputs": [],
      "source": [
        "# Function to zip the downloaded category directory and provide a download link\n",
        "def zip_category_dir(class_dir, category):\n",
        "    zip_file_path = f'/content/{category}_images.zip'\n",
        "    shutil.make_archive(zip_file_path.replace('.zip', ''), 'zip', class_dir)\n",
        "\n",
        "    # Provide a download link for the zipped file\n",
        "    print(f\"Zipping and downloading {category} images...\")\n",
        "    files.download(zip_file_path)"
      ]
    },
    {
      "cell_type": "code",
      "execution_count": null,
      "metadata": {
        "id": "mz2CcpiNqteV"
      },
      "outputs": [],
      "source": [
        "# Function to download and organize images for each category\n",
        "def download_and_organize_images(category):\n",
        "    category_path = os.path.join(raw_data_path, category)\n",
        "    class_dir = os.path.join(output_dir, category)\n",
        "\n",
        "    # Loop through each .txt file in the category directory\n",
        "    for txt_file in os.listdir(category_path):\n",
        "        if txt_file.endswith('.txt'):\n",
        "            txt_file_path = os.path.join(category_path, txt_file)\n",
        "\n",
        "            # Read the URLs from the text file\n",
        "            with open(txt_file_path, 'r') as file:\n",
        "                urls = file.readlines()\n",
        "\n",
        "            # Download and save images in the respective category folder\n",
        "            for idx, url in enumerate(tqdm(urls, desc=f'Downloading {category} images')):\n",
        "                url = url.strip()  # Clean up URL\n",
        "\n",
        "                try:\n",
        "                    # Download the image\n",
        "                    img_data = requests.get(url).content\n",
        "\n",
        "                    # Generate the image file name\n",
        "                    img_name = os.path.join(class_dir, f'{txt_file}_{idx}.jpg')\n",
        "\n",
        "                    # Save the image to the category folder\n",
        "                    with open(img_name, 'wb') as img_file:\n",
        "                        img_file.write(img_data)\n",
        "\n",
        "                except Exception as e:\n",
        "                    print(f\"Failed to download {url}: {e}\")\n",
        "\n",
        "    # After downloading the images, zip the category folder\n",
        "    zip_category_dir(class_dir, category)"
      ]
    },
    {
      "cell_type": "code",
      "execution_count": null,
      "metadata": {
        "colab": {
          "base_uri": "https://localhost:8080/",
          "height": 1000
        },
        "id": "v5O2b3Xpq3YF",
        "outputId": "1de68118-cd53-4e8b-d698-72dd5d508712"
      },
      "outputs": [
        {
          "output_type": "stream",
          "name": "stderr",
          "text": [
            "Downloading drawings images:   0%|          | 3/15566 [00:00<54:45,  4.74it/s]  "
          ]
        },
        {
          "output_type": "stream",
          "name": "stdout",
          "text": [
            "Failed to download http://akicocotte.weblike.jp/gaugau/01.jpg: HTTPConnectionPool(host='akicocotte.weblike.jp', port=80): Max retries exceeded with url: /gaugau/01.jpg (Caused by NameResolutionError(\"<urllib3.connection.HTTPConnection object at 0x7dde04969150>: Failed to resolve 'akicocotte.weblike.jp' ([Errno -2] Name or service not known)\"))\n"
          ]
        },
        {
          "output_type": "stream",
          "name": "stderr",
          "text": [
            "Downloading drawings images:  12%|█▏        | 1833/15566 [00:48<05:41, 40.19it/s]"
          ]
        },
        {
          "output_type": "stream",
          "name": "stdout",
          "text": [
            "Failed to download http://i.minus.com/i2vWOZ1zQlvzA.jpg: HTTPConnectionPool(host='i.minus.com', port=80): Max retries exceeded with url: /i2vWOZ1zQlvzA.jpg (Caused by NameResolutionError(\"<urllib3.connection.HTTPConnection object at 0x7dde04968100>: Failed to resolve 'i.minus.com' ([Errno -2] Name or service not known)\"))\n",
            "Failed to download http://i.minus.com/iCChOfBMRDvkt.jpg: HTTPConnectionPool(host='i.minus.com', port=80): Max retries exceeded with url: /iCChOfBMRDvkt.jpg (Caused by NameResolutionError(\"<urllib3.connection.HTTPConnection object at 0x7dde0496b400>: Failed to resolve 'i.minus.com' ([Errno -2] Name or service not known)\"))\n",
            "Failed to download http://i.minus.com/iDbdes9ocmJKd.jpg: HTTPConnectionPool(host='i.minus.com', port=80): Max retries exceeded with url: /iDbdes9ocmJKd.jpg (Caused by NameResolutionError(\"<urllib3.connection.HTTPConnection object at 0x7dde0496a7d0>: Failed to resolve 'i.minus.com' ([Errno -2] Name or service not known)\"))\n",
            "Failed to download http://i.minus.com/iEYACIp5AaR1Z.jpg: HTTPConnectionPool(host='i.minus.com', port=80): Max retries exceeded with url: /iEYACIp5AaR1Z.jpg (Caused by NameResolutionError(\"<urllib3.connection.HTTPConnection object at 0x7dde9690dc00>: Failed to resolve 'i.minus.com' ([Errno -2] Name or service not known)\"))\n",
            "Failed to download http://i.minus.com/iZKaxnE1ztlHa.jpg: HTTPConnectionPool(host='i.minus.com', port=80): Max retries exceeded with url: /iZKaxnE1ztlHa.jpg (Caused by NameResolutionError(\"<urllib3.connection.HTTPConnection object at 0x7dde063229e0>: Failed to resolve 'i.minus.com' ([Errno -2] Name or service not known)\"))\n",
            "Failed to download http://i.minus.com/idQeuZBI3J9bP.jpg: HTTPConnectionPool(host='i.minus.com', port=80): Max retries exceeded with url: /idQeuZBI3J9bP.jpg (Caused by NameResolutionError(\"<urllib3.connection.HTTPConnection object at 0x7dde0496a590>: Failed to resolve 'i.minus.com' ([Errno -2] Name or service not known)\"))\n",
            "Failed to download http://i.minus.com/in4GHDJ9cBV8U.jpg: HTTPConnectionPool(host='i.minus.com', port=80): Max retries exceeded with url: /in4GHDJ9cBV8U.jpg (Caused by NameResolutionError(\"<urllib3.connection.HTTPConnection object at 0x7dde0496a410>: Failed to resolve 'i.minus.com' ([Errno -2] Name or service not known)\"))\n",
            "Failed to download http://i.minus.com/iyM26evCa8qNh.jpg: HTTPConnectionPool(host='i.minus.com', port=80): Max retries exceeded with url: /iyM26evCa8qNh.jpg (Caused by NameResolutionError(\"<urllib3.connection.HTTPConnection object at 0x7dde0496ac20>: Failed to resolve 'i.minus.com' ([Errno -2] Name or service not known)\"))\n",
            "Failed to download http://i1.minus.com/iVc7R3OAbzXZl.jpg: HTTPConnectionPool(host='i1.minus.com', port=80): Max retries exceeded with url: /iVc7R3OAbzXZl.jpg (Caused by NameResolutionError(\"<urllib3.connection.HTTPConnection object at 0x7dde05628f40>: Failed to resolve 'i1.minus.com' ([Errno -2] Name or service not known)\"))\n",
            "Failed to download http://i2.minus.com/i1MCfVjxDjANZ.jpg: HTTPConnectionPool(host='i2.minus.com', port=80): Max retries exceeded with url: /i1MCfVjxDjANZ.jpg (Caused by NameResolutionError(\"<urllib3.connection.HTTPConnection object at 0x7dde04968d90>: Failed to resolve 'i2.minus.com' ([Errno -2] Name or service not known)\"))\n",
            "Failed to download http://i2.minus.com/i7ULKmQ5nCiQn.jpg: HTTPConnectionPool(host='i2.minus.com', port=80): Max retries exceeded with url: /i7ULKmQ5nCiQn.jpg (Caused by NameResolutionError(\"<urllib3.connection.HTTPConnection object at 0x7dde0496ba00>: Failed to resolve 'i2.minus.com' ([Errno -2] Name or service not known)\"))\n",
            "Failed to download http://i3.minus.com/iVtKf7Icx5FBM.jpg: HTTPConnectionPool(host='i3.minus.com', port=80): Max retries exceeded with url: /iVtKf7Icx5FBM.jpg (Caused by NameResolutionError(\"<urllib3.connection.HTTPConnection object at 0x7dde049681f0>: Failed to resolve 'i3.minus.com' ([Errno -2] Name or service not known)\"))\n",
            "Failed to download http://i4.minus.com/iNqxumYEJaUhL.jpg: HTTPConnectionPool(host='i4.minus.com', port=80): Max retries exceeded with url: /iNqxumYEJaUhL.jpg (Caused by NameResolutionError(\"<urllib3.connection.HTTPConnection object at 0x7dde063201c0>: Failed to resolve 'i4.minus.com' ([Errno -2] Name or service not known)\"))\n"
          ]
        },
        {
          "output_type": "stream",
          "name": "stderr",
          "text": [
            "\rDownloading drawings images:  12%|█▏        | 1838/15566 [00:48<08:25, 27.17it/s]"
          ]
        },
        {
          "output_type": "stream",
          "name": "stdout",
          "text": [
            "Failed to download http://i6.minus.com/ibhtcAPgrDuZNa.jpg: HTTPConnectionPool(host='i6.minus.com', port=80): Max retries exceeded with url: /ibhtcAPgrDuZNa.jpg (Caused by NameResolutionError(\"<urllib3.connection.HTTPConnection object at 0x7dde9690dc00>: Failed to resolve 'i6.minus.com' ([Errno -2] Name or service not known)\"))\n",
            "Failed to download http://i7.minus.com/iIsVLuYN8cd18.jpg: HTTPConnectionPool(host='i7.minus.com', port=80): Max retries exceeded with url: /iIsVLuYN8cd18.jpg (Caused by NameResolutionError(\"<urllib3.connection.HTTPConnection object at 0x7dde0562bc40>: Failed to resolve 'i7.minus.com' ([Errno -2] Name or service not known)\"))\n"
          ]
        },
        {
          "output_type": "stream",
          "name": "stderr",
          "text": [
            "\rDownloading drawings images:  12%|█▏        | 1842/15566 [00:48<10:25, 21.94it/s]"
          ]
        },
        {
          "output_type": "stream",
          "name": "stdout",
          "text": [
            "Failed to download http://licdn.awwni.me/nu9a.jpg: HTTPConnectionPool(host='licdn.awwni.me', port=80): Max retries exceeded with url: /nu9a.jpg (Caused by NewConnectionError('<urllib3.connection.HTTPConnection object at 0x7dde9690f5b0>: Failed to establish a new connection: [Errno 111] Connection refused'))\n"
          ]
        },
        {
          "output_type": "stream",
          "name": "stderr",
          "text": [
            "Downloading drawings images:  12%|█▏        | 1854/15566 [00:54<1:03:18,  3.61it/s]"
          ]
        },
        {
          "output_type": "stream",
          "name": "stdout",
          "text": [
            "Failed to download http://static.zerochan.net/Kyoukai.no.Kanata.full.1617508.jpg: ('Connection aborted.', RemoteDisconnected('Remote end closed connection without response'))\n",
            "Failed to download http://www.entravity.com/wp-content/uploads/2013/02/haganai-7-12-kobato-jealous.jpg: HTTPConnectionPool(host='www.entravity.com', port=80): Max retries exceeded with url: /wp-content/uploads/2013/02/haganai-7-12-kobato-jealous.jpg (Caused by NameResolutionError(\"<urllib3.connection.HTTPConnection object at 0x7dde049684f0>: Failed to resolve 'www.entravity.com' ([Errno -2] Name or service not known)\"))\n",
            "Failed to download http://www.entravity.com/wp-content/uploads/2014/04/Shiba-Miyuki-and-Tatsuya.jpg: HTTPConnectionPool(host='www.entravity.com', port=80): Max retries exceeded with url: /wp-content/uploads/2014/04/Shiba-Miyuki-and-Tatsuya.jpg (Caused by NameResolutionError(\"<urllib3.connection.HTTPConnection object at 0x7dde056292a0>: Failed to resolve 'www.entravity.com' ([Errno -2] Name or service not known)\"))\n",
            "Failed to download http://www.violet-evergarden.jp/img/sidestory/mainvisualSS.jpg: HTTPConnectionPool(host='www.violet-evergarden.jp', port=80): Max retries exceeded with url: /img/sidestory/mainvisualSS.jpg (Caused by NameResolutionError(\"<urllib3.connection.HTTPConnection object at 0x7dde056298d0>: Failed to resolve 'www.violet-evergarden.jp' ([Errno -2] Name or service not known)\"))\n"
          ]
        },
        {
          "output_type": "stream",
          "name": "stderr",
          "text": [
            "Downloading drawings images:  12%|█▏        | 1859/15566 [00:56<1:40:18,  2.28it/s]"
          ]
        },
        {
          "output_type": "stream",
          "name": "stdout",
          "text": [
            "Failed to download https://captain.neckbeard.xyz/media/49800c45f17165d9e04d0a3ce28f3342f9dce41aa46b8cfaa5a1667389d2bd75.jpg?name=qH5KOOhrS12Q8g.jpg: HTTPSConnectionPool(host='captain.neckbeard.xyz', port=443): Max retries exceeded with url: /media/49800c45f17165d9e04d0a3ce28f3342f9dce41aa46b8cfaa5a1667389d2bd75.jpg?name=qH5KOOhrS12Q8g.jpg (Caused by NameResolutionError(\"<urllib3.connection.HTTPSConnection object at 0x7dde9690f4c0>: Failed to resolve 'captain.neckbeard.xyz' ([Errno -2] Name or service not known)\"))\n"
          ]
        },
        {
          "output_type": "stream",
          "name": "stderr",
          "text": [
            "Downloading drawings images:  25%|██▍       | 3891/15566 [19:21<49:42,  3.91it/s]  "
          ]
        },
        {
          "output_type": "stream",
          "name": "stdout",
          "text": [
            "Failed to download https://fbcdn-sphotos-b-a.akamaihd.net/hphotos-ak-xfp1/v/t1.0-9/16306_891831620847472_1327229615676504348_n.jpg?oh=e58fe5fa0726127c52e5b5356d1c73a8&amp;oe=5523CE8B&amp;__gda__=1431447944_3df2e1059538d79fa079660915f70ddc: HTTPSConnectionPool(host='fbcdn-sphotos-b-a.akamaihd.net', port=443): Max retries exceeded with url: /hphotos-ak-xfp1/v/t1.0-9/16306_891831620847472_1327229615676504348_n.jpg?oh=e58fe5fa0726127c52e5b5356d1c73a8&amp;oe=5523CE8B&amp;__gda__=1431447944_3df2e1059538d79fa079660915f70ddc (Caused by NameResolutionError(\"<urllib3.connection.HTTPSConnection object at 0x7dde9690dae0>: Failed to resolve 'fbcdn-sphotos-b-a.akamaihd.net' ([Errno -2] Name or service not known)\"))\n"
          ]
        },
        {
          "output_type": "stream",
          "name": "stderr",
          "text": [
            "Downloading drawings images:  67%|██████▋   | 10382/15566 [23:57<05:08, 16.80it/s]"
          ]
        },
        {
          "output_type": "stream",
          "name": "stdout",
          "text": [
            "Failed to download https://i.minus.com/iQvHPiL7usMQf.jpg: HTTPSConnectionPool(host='i.minus.com', port=443): Max retries exceeded with url: /iQvHPiL7usMQf.jpg (Caused by NameResolutionError(\"<urllib3.connection.HTTPSConnection object at 0x7dde05628d90>: Failed to resolve 'i.minus.com' ([Errno -2] Name or service not known)\"))\n"
          ]
        },
        {
          "output_type": "stream",
          "name": "stderr",
          "text": [
            "Downloading drawings images: 100%|█████████▉| 15563/15566 [29:30<00:00,  3.56it/s]"
          ]
        },
        {
          "output_type": "stream",
          "name": "stdout",
          "text": [
            "Failed to download https://scontent.fybz2-2.fna.fbcdn.net/v/t1.0-9/29789981_10156412595976812_809384301923516485_n.jpg?_nc_cat=0&amp;oh=08a774e6d5527e9766376f8e8577ab35&amp;oe=5B644442: HTTPSConnectionPool(host='scontent.fybz2-2.fna.fbcdn.net', port=443): Max retries exceeded with url: /v/t1.0-9/29789981_10156412595976812_809384301923516485_n.jpg?_nc_cat=0&amp;oh=08a774e6d5527e9766376f8e8577ab35&amp;oe=5B644442 (Caused by NameResolutionError(\"<urllib3.connection.HTTPSConnection object at 0x7dde9690dae0>: Failed to resolve 'scontent.fybz2-2.fna.fbcdn.net' ([Errno -2] Name or service not known)\"))\n"
          ]
        },
        {
          "output_type": "stream",
          "name": "stderr",
          "text": [
            "\rDownloading drawings images: 100%|█████████▉| 15565/15566 [29:31<00:00,  3.30it/s]"
          ]
        },
        {
          "output_type": "stream",
          "name": "stdout",
          "text": [
            "Failed to download https://static.zerochan.net/Tomoe.Mami.full.1368434.jpg: ('Connection aborted.', RemoteDisconnected('Remote end closed connection without response'))\n"
          ]
        },
        {
          "output_type": "stream",
          "name": "stderr",
          "text": [
            "Downloading drawings images: 100%|██████████| 15566/15566 [29:32<00:00,  8.78it/s]\n"
          ]
        },
        {
          "output_type": "stream",
          "name": "stdout",
          "text": [
            "Zipping and downloading drawings images...\n"
          ]
        },
        {
          "output_type": "display_data",
          "data": {
            "text/plain": [
              "<IPython.core.display.Javascript object>"
            ],
            "application/javascript": [
              "\n",
              "    async function download(id, filename, size) {\n",
              "      if (!google.colab.kernel.accessAllowed) {\n",
              "        return;\n",
              "      }\n",
              "      const div = document.createElement('div');\n",
              "      const label = document.createElement('label');\n",
              "      label.textContent = `Downloading \"${filename}\": `;\n",
              "      div.appendChild(label);\n",
              "      const progress = document.createElement('progress');\n",
              "      progress.max = size;\n",
              "      div.appendChild(progress);\n",
              "      document.body.appendChild(div);\n",
              "\n",
              "      const buffers = [];\n",
              "      let downloaded = 0;\n",
              "\n",
              "      const channel = await google.colab.kernel.comms.open(id);\n",
              "      // Send a message to notify the kernel that we're ready.\n",
              "      channel.send({})\n",
              "\n",
              "      for await (const message of channel.messages) {\n",
              "        // Send a message to notify the kernel that we're ready.\n",
              "        channel.send({})\n",
              "        if (message.buffers) {\n",
              "          for (const buffer of message.buffers) {\n",
              "            buffers.push(buffer);\n",
              "            downloaded += buffer.byteLength;\n",
              "            progress.value = downloaded;\n",
              "          }\n",
              "        }\n",
              "      }\n",
              "      const blob = new Blob(buffers, {type: 'application/binary'});\n",
              "      const a = document.createElement('a');\n",
              "      a.href = window.URL.createObjectURL(blob);\n",
              "      a.download = filename;\n",
              "      div.appendChild(a);\n",
              "      a.click();\n",
              "      div.remove();\n",
              "    }\n",
              "  "
            ]
          },
          "metadata": {}
        },
        {
          "output_type": "display_data",
          "data": {
            "text/plain": [
              "<IPython.core.display.Javascript object>"
            ],
            "application/javascript": [
              "download(\"download_b968c89b-a7d5-4d37-b145-ff373ab4d0f8\", \"drawings_images.zip\", 4052858360)"
            ]
          },
          "metadata": {}
        },
        {
          "output_type": "stream",
          "name": "stderr",
          "text": [
            "Downloading hentai images:   0%|          | 4/3174 [00:00<11:45,  4.49it/s]"
          ]
        },
        {
          "output_type": "stream",
          "name": "stdout",
          "text": [
            "Failed to download http://mgewiki.com/images/2/25/Lesser_Succubus_extra_art.jpg: ('Connection aborted.', RemoteDisconnected('Remote end closed connection without response'))\n"
          ]
        },
        {
          "output_type": "stream",
          "name": "stderr",
          "text": [
            "Downloading hentai images:  99%|█████████▉| 3138/3174 [08:24<00:03, 11.27it/s]"
          ]
        },
        {
          "output_type": "stream",
          "name": "stdout",
          "text": [
            "Failed to download https://i1.yuki.la/5/20/1a186df2ef0aee888e49eeedf27a57b0fea7a9d212c7cc6bb44afb61a35ba205.jpg: HTTPSConnectionPool(host='i1.yuki.la', port=443): Max retries exceeded with url: /5/20/1a186df2ef0aee888e49eeedf27a57b0fea7a9d212c7cc6bb44afb61a35ba205.jpg (Caused by NameResolutionError(\"<urllib3.connection.HTTPSConnection object at 0x7dde0496a890>: Failed to resolve 'i1.yuki.la' ([Errno -2] Name or service not known)\"))\n",
            "Failed to download https://i2.yuki.la/9/0c/5f4a4d8b7a5c9d668c2da20b14de86c965246cbe890938fe2a0e177b850270c9.jpg: HTTPSConnectionPool(host='i2.yuki.la', port=443): Max retries exceeded with url: /9/0c/5f4a4d8b7a5c9d668c2da20b14de86c965246cbe890938fe2a0e177b850270c9.jpg (Caused by NameResolutionError(\"<urllib3.connection.HTTPSConnection object at 0x7dde0496b790>: Failed to resolve 'i2.yuki.la' ([Errno -2] Name or service not known)\"))\n"
          ]
        },
        {
          "output_type": "stream",
          "name": "stderr",
          "text": [
            "Downloading hentai images:  99%|█████████▉| 3143/3174 [08:24<00:02, 11.70it/s]"
          ]
        },
        {
          "output_type": "stream",
          "name": "stdout",
          "text": [
            "Failed to download https://img2.gelbooru.com/images/86/82/8682f2ae300f8550d1c07ad23dccf036.jpg: HTTPSConnectionPool(host='img2.gelbooru.com', port=443): Max retries exceeded with url: /images/86/82/8682f2ae300f8550d1c07ad23dccf036.jpg (Caused by NameResolutionError(\"<urllib3.connection.HTTPSConnection object at 0x7dde04969000>: Failed to resolve 'img2.gelbooru.com' ([Errno -2] Name or service not known)\"))\n"
          ]
        },
        {
          "output_type": "stream",
          "name": "stderr",
          "text": [
            "Downloading hentai images: 100%|█████████▉| 3164/3174 [08:30<00:02,  3.39it/s]"
          ]
        },
        {
          "output_type": "stream",
          "name": "stdout",
          "text": [
            "Failed to download https://scontent-ort2-2.xx.fbcdn.net/v/t1.0-9/fr/cp0/e15/q65/35531947_2031086003806773_7873165560308039680_n.jpg?_nc_cat=0&amp;efg=eyJpIjoidCJ9&amp;oh=5e3f76d55329eb77687d944f4ae5c897&amp;oe=5BAC7B41: HTTPSConnectionPool(host='scontent-ort2-2.xx.fbcdn.net', port=443): Max retries exceeded with url: /v/t1.0-9/fr/cp0/e15/q65/35531947_2031086003806773_7873165560308039680_n.jpg?_nc_cat=0&amp;efg=eyJpIjoidCJ9&amp;oh=5e3f76d55329eb77687d944f4ae5c897&amp;oe=5BAC7B41 (Caused by NameResolutionError(\"<urllib3.connection.HTTPSConnection object at 0x7dde0562bbe0>: Failed to resolve 'scontent-ort2-2.xx.fbcdn.net' ([Errno -2] Name or service not known)\"))\n"
          ]
        },
        {
          "output_type": "stream",
          "name": "stderr",
          "text": [
            "Downloading hentai images: 100%|██████████| 3174/3174 [08:31<00:00,  6.21it/s]\n"
          ]
        },
        {
          "output_type": "stream",
          "name": "stdout",
          "text": [
            "Zipping and downloading hentai images...\n"
          ]
        },
        {
          "output_type": "display_data",
          "data": {
            "text/plain": [
              "<IPython.core.display.Javascript object>"
            ],
            "application/javascript": [
              "\n",
              "    async function download(id, filename, size) {\n",
              "      if (!google.colab.kernel.accessAllowed) {\n",
              "        return;\n",
              "      }\n",
              "      const div = document.createElement('div');\n",
              "      const label = document.createElement('label');\n",
              "      label.textContent = `Downloading \"${filename}\": `;\n",
              "      div.appendChild(label);\n",
              "      const progress = document.createElement('progress');\n",
              "      progress.max = size;\n",
              "      div.appendChild(progress);\n",
              "      document.body.appendChild(div);\n",
              "\n",
              "      const buffers = [];\n",
              "      let downloaded = 0;\n",
              "\n",
              "      const channel = await google.colab.kernel.comms.open(id);\n",
              "      // Send a message to notify the kernel that we're ready.\n",
              "      channel.send({})\n",
              "\n",
              "      for await (const message of channel.messages) {\n",
              "        // Send a message to notify the kernel that we're ready.\n",
              "        channel.send({})\n",
              "        if (message.buffers) {\n",
              "          for (const buffer of message.buffers) {\n",
              "            buffers.push(buffer);\n",
              "            downloaded += buffer.byteLength;\n",
              "            progress.value = downloaded;\n",
              "          }\n",
              "        }\n",
              "      }\n",
              "      const blob = new Blob(buffers, {type: 'application/binary'});\n",
              "      const a = document.createElement('a');\n",
              "      a.href = window.URL.createObjectURL(blob);\n",
              "      a.download = filename;\n",
              "      div.appendChild(a);\n",
              "      a.click();\n",
              "      div.remove();\n",
              "    }\n",
              "  "
            ]
          },
          "metadata": {}
        },
        {
          "output_type": "display_data",
          "data": {
            "text/plain": [
              "<IPython.core.display.Javascript object>"
            ],
            "application/javascript": [
              "download(\"download_d22c9a57-aa2a-4fc9-89f6-c5552831d82c\", \"hentai_images.zip\", 1010042322)"
            ]
          },
          "metadata": {}
        },
        {
          "output_type": "stream",
          "name": "stderr",
          "text": [
            "Downloading neutral images:   0%|          | 4/36837 [00:01<2:40:34,  3.82it/s]"
          ]
        },
        {
          "output_type": "stream",
          "name": "stdout",
          "text": [
            "Failed to download http://10pm.com/files/lk9wdklq6dz.jpg: ('Connection aborted.', RemoteDisconnected('Remote end closed connection without response'))\n"
          ]
        },
        {
          "output_type": "stream",
          "name": "stderr",
          "text": [
            "Downloading neutral images:   0%|          | 26/36837 [00:40<20:23:06,  1.99s/it]"
          ]
        },
        {
          "output_type": "stream",
          "name": "stdout",
          "text": [
            "Failed to download http://blogs.r.ftdata.co.uk/photo-diary/files/2013/09/White-House-Blog-pic.jpg: HTTPConnectionPool(host='blogs.r.ftdata.co.uk', port=80): Max retries exceeded with url: /photo-diary/files/2013/09/White-House-Blog-pic.jpg (Caused by NameResolutionError(\"<urllib3.connection.HTTPConnection object at 0x7dde0496a5c0>: Failed to resolve 'blogs.r.ftdata.co.uk' ([Errno -5] No address associated with hostname)\"))\n"
          ]
        },
        {
          "output_type": "stream",
          "name": "stderr",
          "text": [
            "Downloading neutral images:   0%|          | 34/36837 [00:42<4:26:14,  2.30it/s]"
          ]
        },
        {
          "output_type": "stream",
          "name": "stdout",
          "text": [
            "Failed to download http://cdn.holytaco.com/www/sites/default/files/photo/a6/8039/Monkey-Riding-Bull-Yes-Indeed_500x500.jpg: HTTPConnectionPool(host='cdn.holytaco.com', port=80): Max retries exceeded with url: /www/sites/default/files/photo/a6/8039/Monkey-Riding-Bull-Yes-Indeed_500x500.jpg (Caused by NameResolutionError(\"<urllib3.connection.HTTPConnection object at 0x7dde0496aa10>: Failed to resolve 'cdn.holytaco.com' ([Errno -2] Name or service not known)\"))\n",
            "Failed to download http://cdn.holytaco.com/www/wp-content/uploads/2008/10/zebralionhug.jpg: HTTPConnectionPool(host='cdn.holytaco.com', port=80): Max retries exceeded with url: /www/wp-content/uploads/2008/10/zebralionhug.jpg (Caused by NameResolutionError(\"<urllib3.connection.HTTPConnection object at 0x7dde06818310>: Failed to resolve 'cdn.holytaco.com' ([Errno -2] Name or service not known)\"))\n"
          ]
        },
        {
          "output_type": "stream",
          "name": "stderr",
          "text": [
            "Downloading neutral images:   0%|          | 43/36837 [00:46<4:21:23,  2.35it/s]"
          ]
        },
        {
          "output_type": "stream",
          "name": "stdout",
          "text": [
            "Failed to download http://data.whicdn.com/images/12872464/bb_large.jpg?1312408197: HTTPConnectionPool(host='data.whicdn.com', port=80): Max retries exceeded with url: /images/12872464/bb_large.jpg?1312408197 (Caused by NameResolutionError(\"<urllib3.connection.HTTPConnection object at 0x7dde049686a0>: Failed to resolve 'data.whicdn.com' ([Errno -2] Name or service not known)\"))\n"
          ]
        },
        {
          "output_type": "stream",
          "name": "stderr",
          "text": [
            "Downloading neutral images:   0%|          | 58/36837 [00:52<1:57:54,  5.20it/s]"
          ]
        },
        {
          "output_type": "stream",
          "name": "stdout",
          "text": [
            "Failed to download http://fast-musclebuilding.com/wp-content/uploads/2011/01/female-bodybuilders.jpg: HTTPConnectionPool(host='fast-musclebuilding.com', port=80): Max retries exceeded with url: /wp-content/uploads/2011/01/female-bodybuilders.jpg (Caused by NameResolutionError(\"<urllib3.connection.HTTPConnection object at 0x7dde04968fd0>: Failed to resolve 'fast-musclebuilding.com' ([Errno -2] Name or service not known)\"))\n"
          ]
        },
        {
          "output_type": "stream",
          "name": "stderr",
          "text": [
            "Downloading neutral images:   0%|          | 65/36837 [01:01<24:28:24,  2.40s/it]"
          ]
        },
        {
          "output_type": "stream",
          "name": "stdout",
          "text": [
            "Failed to download http://fmitk-cdn.fmitk.netdna-cdn.com/wp-content/uploads/2014/07/miniapplerosetart19.jpg: HTTPConnectionPool(host='fmitk-cdn.fmitk.netdna-cdn.com', port=80): Max retries exceeded with url: /wp-content/uploads/2014/07/miniapplerosetart19.jpg (Caused by NameResolutionError(\"<urllib3.connection.HTTPConnection object at 0x7dde04968f70>: Failed to resolve 'fmitk-cdn.fmitk.netdna-cdn.com' ([Errno -2] Name or service not known)\"))\n",
            "Failed to download http://funnyrepost.com/images/20150613/Pug-chicken-funnyrepost.com-.jpg: HTTPConnectionPool(host='funnyrepost.com', port=80): Max retries exceeded with url: /images/20150613/Pug-chicken-funnyrepost.com-.jpg (Caused by NameResolutionError(\"<urllib3.connection.HTTPConnection object at 0x7dde05629330>: Failed to resolve 'funnyrepost.com' ([Errno -2] Name or service not known)\"))\n",
            "Failed to download http://gallery.photo.net/photo/7767971-lg.jpg: HTTPConnectionPool(host='gallery.photo.net', port=80): Max retries exceeded with url: /photo/7767971-lg.jpg (Caused by NameResolutionError(\"<urllib3.connection.HTTPConnection object at 0x7dde04968f70>: Failed to resolve 'gallery.photo.net' ([Errno -2] Name or service not known)\"))\n"
          ]
        },
        {
          "output_type": "stream",
          "name": "stderr",
          "text": [
            "Downloading neutral images:   0%|          | 70/36837 [01:02<8:03:16,  1.27it/s] "
          ]
        },
        {
          "output_type": "stream",
          "name": "stdout",
          "text": [
            "Failed to download http://glup.me/wp-content/uploads/2012/01/emilybrowningvisage.jpg: HTTPConnectionPool(host='glup.me', port=80): Max retries exceeded with url: /wp-content/uploads/2012/01/emilybrowningvisage.jpg (Caused by NameResolutionError(\"<urllib3.connection.HTTPConnection object at 0x7dde0496b7f0>: Failed to resolve 'glup.me' ([Errno -2] Name or service not known)\"))\n"
          ]
        },
        {
          "output_type": "stream",
          "name": "stderr",
          "text": [
            "Downloading neutral images:  20%|█▉        | 7275/36837 [03:34<11:06, 44.33it/s]"
          ]
        },
        {
          "output_type": "stream",
          "name": "stdout",
          "text": [
            "Failed to download http://i.minus.com/iD9OfqStxzcQX.jpg: HTTPConnectionPool(host='i.minus.com', port=80): Max retries exceeded with url: /iD9OfqStxzcQX.jpg (Caused by NameResolutionError(\"<urllib3.connection.HTTPConnection object at 0x7dde0496add0>: Failed to resolve 'i.minus.com' ([Errno -2] Name or service not known)\"))\n",
            "Failed to download http://i.minus.com/iDPnsOXU7MTTN.jpg: HTTPConnectionPool(host='i.minus.com', port=80): Max retries exceeded with url: /iDPnsOXU7MTTN.jpg (Caused by NameResolutionError(\"<urllib3.connection.HTTPConnection object at 0x7dde049683d0>: Failed to resolve 'i.minus.com' ([Errno -2] Name or service not known)\"))\n",
            "Failed to download http://i.minus.com/iFM991g5RBQH5.jpg: HTTPConnectionPool(host='i.minus.com', port=80): Max retries exceeded with url: /iFM991g5RBQH5.jpg (Caused by NameResolutionError(\"<urllib3.connection.HTTPConnection object at 0x7dde0681a710>: Failed to resolve 'i.minus.com' ([Errno -2] Name or service not known)\"))\n",
            "Failed to download http://i.minus.com/iN4JMNhnA2ago.jpg: HTTPConnectionPool(host='i.minus.com', port=80): Max retries exceeded with url: /iN4JMNhnA2ago.jpg (Caused by NameResolutionError(\"<urllib3.connection.HTTPConnection object at 0x7dde0496be50>: Failed to resolve 'i.minus.com' ([Errno -2] Name or service not known)\"))\n",
            "Failed to download http://i.minus.com/iQC0fOHSPKHo.jpg: HTTPConnectionPool(host='i.minus.com', port=80): Max retries exceeded with url: /iQC0fOHSPKHo.jpg (Caused by NameResolutionError(\"<urllib3.connection.HTTPConnection object at 0x7dde04968790>: Failed to resolve 'i.minus.com' ([Errno -2] Name or service not known)\"))\n",
            "Failed to download http://i.minus.com/iYABtCjcl79rO.jpg: HTTPConnectionPool(host='i.minus.com', port=80): Max retries exceeded with url: /iYABtCjcl79rO.jpg (Caused by NameResolutionError(\"<urllib3.connection.HTTPConnection object at 0x7dde0496ad70>: Failed to resolve 'i.minus.com' ([Errno -2] Name or service not known)\"))\n",
            "Failed to download http://i.minus.com/ib0RQjcI4GRsvf.jpg: HTTPConnectionPool(host='i.minus.com', port=80): Max retries exceeded with url: /ib0RQjcI4GRsvf.jpg (Caused by NameResolutionError(\"<urllib3.connection.HTTPConnection object at 0x7dde06818af0>: Failed to resolve 'i.minus.com' ([Errno -2] Name or service not known)\"))\n",
            "Failed to download http://i.minus.com/ijksaA7H8znSo.jpg: HTTPConnectionPool(host='i.minus.com', port=80): Max retries exceeded with url: /ijksaA7H8znSo.jpg (Caused by NameResolutionError(\"<urllib3.connection.HTTPConnection object at 0x7dde06819270>: Failed to resolve 'i.minus.com' ([Errno -2] Name or service not known)\"))\n",
            "Failed to download http://i.minus.com/ilWcwdxhpg8Vr.jpg: HTTPConnectionPool(host='i.minus.com', port=80): Max retries exceeded with url: /ilWcwdxhpg8Vr.jpg (Caused by NameResolutionError(\"<urllib3.connection.HTTPConnection object at 0x7dde06320eb0>: Failed to resolve 'i.minus.com' ([Errno -2] Name or service not known)\"))\n",
            "Failed to download http://i.minus.com/iqz7pluEby2Ln.jpg: HTTPConnectionPool(host='i.minus.com', port=80): Max retries exceeded with url: /iqz7pluEby2Ln.jpg (Caused by NameResolutionError(\"<urllib3.connection.HTTPConnection object at 0x7dde0681a830>: Failed to resolve 'i.minus.com' ([Errno -2] Name or service not known)\"))\n",
            "Failed to download http://i61.tinypic.com/15g3yx1.jpg: HTTPConnectionPool(host='i61.tinypic.com', port=80): Max retries exceeded with url: /15g3yx1.jpg (Caused by NameResolutionError(\"<urllib3.connection.HTTPConnection object at 0x7dde04968190>: Failed to resolve 'i61.tinypic.com' ([Errno -5] No address associated with hostname)\"))\n"
          ]
        },
        {
          "output_type": "stream",
          "name": "stderr",
          "text": [
            "Downloading neutral images:  20%|█▉        | 7287/36837 [03:39<1:47:12,  4.59it/s]"
          ]
        },
        {
          "output_type": "stream",
          "name": "stdout",
          "text": [
            "Failed to download http://images.thesamba.com/vw/gallery/pix/562427.jpg: HTTPConnectionPool(host='images.thesamba.com', port=80): Max retries exceeded with url: /vw/gallery/pix/562427.jpg (Caused by NameResolutionError(\"<urllib3.connection.HTTPConnection object at 0x7dde0496b970>: Failed to resolve 'images.thesamba.com' ([Errno -2] Name or service not known)\"))\n",
            "Failed to download http://img.dannychoo.com/fauna/userimg/large/2008Jul30112838_5796.jpg: HTTPConnectionPool(host='img.dannychoo.com', port=80): Max retries exceeded with url: /fauna/userimg/large/2008Jul30112838_5796.jpg (Caused by NewConnectionError('<urllib3.connection.HTTPConnection object at 0x7dde056288e0>: Failed to establish a new connection: [Errno 101] Network is unreachable'))\n"
          ]
        },
        {
          "output_type": "stream",
          "name": "stderr",
          "text": [
            "\rDownloading neutral images:  20%|█▉        | 7289/36837 [03:47<6:22:57,  1.29it/s]"
          ]
        },
        {
          "output_type": "stream",
          "name": "stdout",
          "text": [
            "Failed to download http://img.sadistic.pl/pics/997997f3a8cf.jpg: HTTPConnectionPool(host='img.sadistic.pl', port=80): Max retries exceeded with url: /pics/997997f3a8cf.jpg (Caused by NameResolutionError(\"<urllib3.connection.HTTPConnection object at 0x7dde06818910>: Failed to resolve 'img.sadistic.pl' ([Errno -2] Name or service not known)\"))\n"
          ]
        },
        {
          "output_type": "stream",
          "name": "stderr",
          "text": [
            "Downloading neutral images:  20%|█▉        | 7342/36837 [03:53<25:04, 19.61it/s]"
          ]
        },
        {
          "output_type": "stream",
          "name": "stdout",
          "text": [
            "Failed to download http://matildamcgibbon.com/FlowerGirl_Colour.jpg: HTTPConnectionPool(host='matildamcgibbon.com', port=80): Max retries exceeded with url: /FlowerGirl_Colour.jpg (Caused by NameResolutionError(\"<urllib3.connection.HTTPConnection object at 0x7dde0496abf0>: Failed to resolve 'matildamcgibbon.com' ([Errno -2] Name or service not known)\"))\n"
          ]
        },
        {
          "output_type": "stream",
          "name": "stderr",
          "text": [
            "Downloading neutral images:  20%|█▉        | 7351/36837 [03:56<1:55:55,  4.24it/s]"
          ]
        },
        {
          "output_type": "stream",
          "name": "stdout",
          "text": [
            "Failed to download http://oi39.tinypic.com/rjgweh.jpg: HTTPConnectionPool(host='oi39.tinypic.com', port=80): Max retries exceeded with url: /rjgweh.jpg (Caused by NameResolutionError(\"<urllib3.connection.HTTPConnection object at 0x7dde0496b700>: Failed to resolve 'oi39.tinypic.com' ([Errno -5] No address associated with hostname)\"))\n",
            "Failed to download http://oi42.tinypic.com/vcxssl.jpg: HTTPConnectionPool(host='oi42.tinypic.com', port=80): Max retries exceeded with url: /vcxssl.jpg (Caused by NameResolutionError(\"<urllib3.connection.HTTPConnection object at 0x7dde0496a5c0>: Failed to resolve 'oi42.tinypic.com' ([Errno -5] No address associated with hostname)\"))\n"
          ]
        },
        {
          "output_type": "stream",
          "name": "stderr",
          "text": [
            "Downloading neutral images:  20%|█▉        | 7364/36837 [04:00<1:45:05,  4.67it/s]"
          ]
        },
        {
          "output_type": "stream",
          "name": "stdout",
          "text": [
            "Failed to download http://pic.gl/images/2017/03/19/0asdfJ.jpg: HTTPConnectionPool(host='pic.gl', port=80): Max retries exceeded with url: /images/2017/03/19/0asdfJ.jpg (Caused by NameResolutionError(\"<urllib3.connection.HTTPConnection object at 0x7dde0496b400>: Failed to resolve 'pic.gl' ([Errno -2] Name or service not known)\"))\n",
            "Failed to download http://pix.avaxnews.com/avaxnews/1d/5c/00005c1d_medium.jpeg: HTTPConnectionPool(host='pix.avaxnews.com', port=80): Max retries exceeded with url: /avaxnews/1d/5c/00005c1d_medium.jpeg (Caused by NameResolutionError(\"<urllib3.connection.HTTPConnection object at 0x7dde0496b550>: Failed to resolve 'pix.avaxnews.com' ([Errno -2] Name or service not known)\"))\n"
          ]
        },
        {
          "output_type": "stream",
          "name": "stderr",
          "text": [
            "Downloading neutral images:  20%|██        | 7420/36837 [05:53<65:48:03,  8.05s/it] "
          ]
        },
        {
          "output_type": "stream",
          "name": "stdout",
          "text": [
            "Failed to download http://s3-ak.buzzfed.com/static/enhanced/webdr03/2013/3/12/12/enhanced-buzz-29361-1363105170-4.jpg: HTTPConnectionPool(host='s3-ak.buzzfed.com', port=80): Max retries exceeded with url: /static/enhanced/webdr03/2013/3/12/12/enhanced-buzz-29361-1363105170-4.jpg (Caused by NameResolutionError(\"<urllib3.connection.HTTPConnection object at 0x7dde0496abf0>: Failed to resolve 's3-ak.buzzfed.com' ([Errno -2] Name or service not known)\"))\n"
          ]
        },
        {
          "output_type": "stream",
          "name": "stderr",
          "text": [
            "Downloading neutral images:  20%|██        | 7427/36837 [05:54<12:46:13,  1.56s/it]"
          ]
        },
        {
          "output_type": "stream",
          "name": "stdout",
          "text": [
            "Failed to download http://sphotos-d.ak.fbcdn.net/hphotos-ak-prn1/46840_475724195808109_1846251317_n.jpg: HTTPConnectionPool(host='sphotos-d.ak.fbcdn.net', port=80): Max retries exceeded with url: /hphotos-ak-prn1/46840_475724195808109_1846251317_n.jpg (Caused by NameResolutionError(\"<urllib3.connection.HTTPConnection object at 0x7dde0681ae00>: Failed to resolve 'sphotos-d.ak.fbcdn.net' ([Errno -2] Name or service not known)\"))\n",
            "Failed to download http://sphotos-d.ak.fbcdn.net/hphotos-ak-snc6/6998_135724003251689_1437350497_n.jpg: HTTPConnectionPool(host='sphotos-d.ak.fbcdn.net', port=80): Max retries exceeded with url: /hphotos-ak-snc6/6998_135724003251689_1437350497_n.jpg (Caused by NameResolutionError(\"<urllib3.connection.HTTPConnection object at 0x7dde049681f0>: Failed to resolve 'sphotos-d.ak.fbcdn.net' ([Errno -2] Name or service not known)\"))\n"
          ]
        },
        {
          "output_type": "stream",
          "name": "stderr",
          "text": [
            "Downloading neutral images:  20%|██        | 7431/36837 [05:55<6:28:30,  1.26it/s]"
          ]
        },
        {
          "output_type": "stream",
          "name": "stdout",
          "text": [
            "Failed to download http://tandhphoto.com/img/south-america/atacama04.jpg: HTTPConnectionPool(host='tandhphoto.com', port=80): Max retries exceeded with url: /img/south-america/atacama04.jpg (Caused by NameResolutionError(\"<urllib3.connection.HTTPConnection object at 0x7dde0496a4a0>: Failed to resolve 'tandhphoto.com' ([Errno -2] Name or service not known)\"))\n"
          ]
        },
        {
          "output_type": "stream",
          "name": "stderr",
          "text": [
            "Downloading neutral images:  20%|██        | 7433/36837 [05:56<5:57:25,  1.37it/s]"
          ]
        },
        {
          "output_type": "stream",
          "name": "stdout",
          "text": [
            "Failed to download http://tranquilmonkey.com/wp-content/uploads/2014/07/funny-underwater-dog-photos-4.jpg: HTTPConnectionPool(host='tranquilmonkey.com', port=80): Max retries exceeded with url: /wp-content/uploads/2014/07/funny-underwater-dog-photos-4.jpg (Caused by NameResolutionError(\"<urllib3.connection.HTTPConnection object at 0x7dde0496b3d0>: Failed to resolve 'tranquilmonkey.com' ([Errno -2] Name or service not known)\"))\n"
          ]
        },
        {
          "output_type": "stream",
          "name": "stderr",
          "text": [
            "Downloading neutral images:  20%|██        | 7438/36837 [05:57<2:48:28,  2.91it/s]"
          ]
        },
        {
          "output_type": "stream",
          "name": "stdout",
          "text": [
            "Failed to download http://uploads2.wikipaintings.org/images/octavio-ocampo/not_detected_250858.jpg!HD.jpg: HTTPConnectionPool(host='uploads2.wikipaintings.org', port=80): Max retries exceeded with url: /images/octavio-ocampo/not_detected_250858.jpg!HD.jpg (Caused by NameResolutionError(\"<urllib3.connection.HTTPConnection object at 0x7dde04968700>: Failed to resolve 'uploads2.wikipaintings.org' ([Errno -2] Name or service not known)\"))\n"
          ]
        },
        {
          "output_type": "stream",
          "name": "stderr",
          "text": [
            "\rDownloading neutral images:  20%|██        | 7440/36837 [05:58<3:16:39,  2.49it/s]"
          ]
        },
        {
          "output_type": "stream",
          "name": "stdout",
          "text": [
            "Failed to download http://v1.wordmess.net/2009/2/ds1169/ds090.jpg: HTTPConnectionPool(host='v1.wordmess.net', port=80): Max retries exceeded with url: /2009/2/ds1169/ds090.jpg (Caused by NameResolutionError(\"<urllib3.connection.HTTPConnection object at 0x7dde0681b1c0>: Failed to resolve 'v1.wordmess.net' ([Errno -2] Name or service not known)\"))\n"
          ]
        },
        {
          "output_type": "stream",
          "name": "stderr",
          "text": [
            "\rDownloading neutral images:  20%|██        | 7442/36837 [06:01<6:57:26,  1.17it/s]"
          ]
        },
        {
          "output_type": "stream",
          "name": "stdout",
          "text": [
            "Failed to download http://wchodgelaw.com/var/bf/63174/603513-divorce-attorney---knob-noster-mo---attorney-w.-christopher-hodge-Call-660-563-5436-for-details-about-our-Divorce-Attorney.jpg: HTTPConnectionPool(host='wchodgelaw.com', port=80): Max retries exceeded with url: /var/bf/63174/603513-divorce-attorney---knob-noster-mo---attorney-w.-christopher-hodge-Call-660-563-5436-for-details-about-our-Divorce-Attorney.jpg (Caused by NameResolutionError(\"<urllib3.connection.HTTPConnection object at 0x7dde0681a680>: Failed to resolve 'wchodgelaw.com' ([Errno -2] Name or service not known)\"))\n"
          ]
        },
        {
          "output_type": "stream",
          "name": "stderr",
          "text": [
            "Downloading neutral images:  20%|██        | 7454/36837 [06:17<22:42:27,  2.78s/it]"
          ]
        },
        {
          "output_type": "stream",
          "name": "stdout",
          "text": [
            "Failed to download http://www.distractify.netdna-cdn.com/wp-content/uploads//2014/05/bill-clinton-jfk-rare-photo-650x510-934x.jpg: HTTPConnectionPool(host='www.distractify.netdna-cdn.com', port=80): Max retries exceeded with url: /wp-content/uploads//2014/05/bill-clinton-jfk-rare-photo-650x510-934x.jpg (Caused by NameResolutionError(\"<urllib3.connection.HTTPConnection object at 0x7dde04968730>: Failed to resolve 'www.distractify.netdna-cdn.com' ([Errno -2] Name or service not known)\"))\n"
          ]
        },
        {
          "output_type": "stream",
          "name": "stderr",
          "text": [
            "Downloading neutral images:  20%|██        | 7456/36837 [06:18<13:05:24,  1.60s/it]"
          ]
        },
        {
          "output_type": "stream",
          "name": "stdout",
          "text": [
            "Failed to download http://www.funtbc.com/wetkoala.jpg: ('Connection aborted.', RemoteDisconnected('Remote end closed connection without response'))\n"
          ]
        },
        {
          "output_type": "stream",
          "name": "stderr",
          "text": [
            "Downloading neutral images:  20%|██        | 7469/36837 [06:23<4:39:06,  1.75it/s]"
          ]
        },
        {
          "output_type": "stream",
          "name": "stdout",
          "text": [
            "Failed to download http://www.letsbewild.com/photos/wp-content/uploads/2012/01/ws.jpg: ('Connection aborted.', RemoteDisconnected('Remote end closed connection without response'))\n"
          ]
        },
        {
          "output_type": "stream",
          "name": "stderr",
          "text": [
            "Downloading neutral images:  20%|██        | 7482/36837 [06:31<6:15:44,  1.30it/s]"
          ]
        },
        {
          "output_type": "stream",
          "name": "stdout",
          "text": [
            "Failed to download http://www.shamano.net/photos/world/19.jpg: HTTPConnectionPool(host='www.shamano.net', port=80): Max retries exceeded with url: /photos/world/19.jpg (Caused by NameResolutionError(\"<urllib3.connection.HTTPConnection object at 0x7dde0496bc70>: Failed to resolve 'www.shamano.net' ([Errno -2] Name or service not known)\"))\n"
          ]
        },
        {
          "output_type": "stream",
          "name": "stderr",
          "text": [
            "Downloading neutral images:  20%|██        | 7490/36837 [06:37<5:29:32,  1.48it/s]"
          ]
        },
        {
          "output_type": "stream",
          "name": "stdout",
          "text": [
            "Failed to download http://www.tribs.pwp.blueyonder.co.uk/images/b3ta/RocketShoes.jpg: HTTPConnectionPool(host='www.tribs.pwp.blueyonder.co.uk', port=80): Max retries exceeded with url: /images/b3ta/RocketShoes.jpg (Caused by NameResolutionError(\"<urllib3.connection.HTTPConnection object at 0x7dde0496ae00>: Failed to resolve 'www.tribs.pwp.blueyonder.co.uk' ([Errno -2] Name or service not known)\"))\n"
          ]
        },
        {
          "output_type": "stream",
          "name": "stderr",
          "text": [
            "\rDownloading neutral images:  20%|██        | 7491/36837 [06:38<5:40:28,  1.44it/s]"
          ]
        },
        {
          "output_type": "stream",
          "name": "stdout",
          "text": [
            "Failed to download http://www.ufunk.net/wp-content/uploads/2017/01/selection-du-weekend-227-69.jpg: HTTPSConnectionPool(host='www.ufunk.net', port=443): Max retries exceeded with url: /wp-content/uploads/2017/01/selection-du-weekend-227-69.jpg (Caused by SSLError(SSLCertVerificationError(1, \"[SSL: CERTIFICATE_VERIFY_FAILED] certificate verify failed: Hostname mismatch, certificate is not valid for 'www.ufunk.net'. (_ssl.c:1007)\")))\n"
          ]
        },
        {
          "output_type": "stream",
          "name": "stderr",
          "text": [
            "Downloading neutral images:  20%|██        | 7507/36837 [06:52<22:05:16,  2.71s/it]"
          ]
        },
        {
          "output_type": "stream",
          "name": "stdout",
          "text": [
            "Failed to download https://baomoi-photo-1-td.zadn.vn/w1000_r1/17/05/09/24/22218896/1_104619.jpg: HTTPSConnectionPool(host='baomoi-photo-1-td.zadn.vn', port=443): Max retries exceeded with url: /w1000_r1/17/05/09/24/22218896/1_104619.jpg (Caused by NameResolutionError(\"<urllib3.connection.HTTPSConnection object at 0x7dde056c2560>: Failed to resolve 'baomoi-photo-1-td.zadn.vn' ([Errno -2] Name or service not known)\"))\n"
          ]
        },
        {
          "output_type": "stream",
          "name": "stderr",
          "text": [
            "Downloading neutral images:  22%|██▏       | 7954/36837 [08:00<33:04, 14.55it/s]"
          ]
        },
        {
          "output_type": "stream",
          "name": "stdout",
          "text": [
            "Failed to download https://contest-public-media.smithsonianmag.com/2c4145d4-cc75-4517-a11d-137c3da0745d.jpg: HTTPSConnectionPool(host='contest-public-media.smithsonianmag.com', port=443): Max retries exceeded with url: /2c4145d4-cc75-4517-a11d-137c3da0745d.jpg (Caused by NameResolutionError(\"<urllib3.connection.HTTPSConnection object at 0x7dde0496ad10>: Failed to resolve 'contest-public-media.smithsonianmag.com' ([Errno -5] No address associated with hostname)\"))\n",
            "Failed to download https://contest-public-media.smithsonianmag.com/35c30daf-3a6d-4552-ad65-049aceb4b294.jpg: HTTPSConnectionPool(host='contest-public-media.smithsonianmag.com', port=443): Max retries exceeded with url: /35c30daf-3a6d-4552-ad65-049aceb4b294.jpg (Caused by NameResolutionError(\"<urllib3.connection.HTTPSConnection object at 0x7dde049687f0>: Failed to resolve 'contest-public-media.smithsonianmag.com' ([Errno -5] No address associated with hostname)\"))\n",
            "Failed to download https://contest-public-media.smithsonianmag.com/3a647d49dd36aca14cfd798dc315c0b07e643f2b.jpg: HTTPSConnectionPool(host='contest-public-media.smithsonianmag.com', port=443): Max retries exceeded with url: /3a647d49dd36aca14cfd798dc315c0b07e643f2b.jpg (Caused by NameResolutionError(\"<urllib3.connection.HTTPSConnection object at 0x7dde04968df0>: Failed to resolve 'contest-public-media.smithsonianmag.com' ([Errno -5] No address associated with hostname)\"))\n",
            "Failed to download https://contest-public-media.smithsonianmag.com/7f4755ba-f4d6-4972-b7b9-2b21fb6e7671.jpg: HTTPSConnectionPool(host='contest-public-media.smithsonianmag.com', port=443): Max retries exceeded with url: /7f4755ba-f4d6-4972-b7b9-2b21fb6e7671.jpg (Caused by NameResolutionError(\"<urllib3.connection.HTTPSConnection object at 0x7dde05629180>: Failed to resolve 'contest-public-media.smithsonianmag.com' ([Errno -5] No address associated with hostname)\"))\n",
            "Failed to download https://contest-public-media.smithsonianmag.com/a2b19565-c8e6-47f6-a151-001ab76e8d56.jpg: HTTPSConnectionPool(host='contest-public-media.smithsonianmag.com', port=443): Max retries exceeded with url: /a2b19565-c8e6-47f6-a151-001ab76e8d56.jpg (Caused by NameResolutionError(\"<urllib3.connection.HTTPSConnection object at 0x7dde0496a860>: Failed to resolve 'contest-public-media.smithsonianmag.com' ([Errno -5] No address associated with hostname)\"))\n",
            "Failed to download https://contest-public-media.smithsonianmag.com/e5eadf74-e0f9-4219-af82-92110e1ebd38.jpg: HTTPSConnectionPool(host='contest-public-media.smithsonianmag.com', port=443): Max retries exceeded with url: /e5eadf74-e0f9-4219-af82-92110e1ebd38.jpg (Caused by NameResolutionError(\"<urllib3.connection.HTTPSConnection object at 0x7dde0496a8c0>: Failed to resolve 'contest-public-media.smithsonianmag.com' ([Errno -5] No address associated with hostname)\"))\n",
            "Failed to download https://d2ip58kv7n8yjd.cloudfront.net/p/assets/images/images/001/437/758/large/steven-cormann-desert-city-screen.jpg?1446426080: HTTPSConnectionPool(host='d2ip58kv7n8yjd.cloudfront.net', port=443): Max retries exceeded with url: /p/assets/images/images/001/437/758/large/steven-cormann-desert-city-screen.jpg?1446426080 (Caused by NameResolutionError(\"<urllib3.connection.HTTPSConnection object at 0x7dde0496a710>: Failed to resolve 'd2ip58kv7n8yjd.cloudfront.net' ([Errno -5] No address associated with hostname)\"))\n"
          ]
        },
        {
          "output_type": "stream",
          "name": "stderr",
          "text": [
            "Downloading neutral images:  22%|██▏       | 7982/36837 [08:06<1:36:28,  4.98it/s]"
          ]
        },
        {
          "output_type": "stream",
          "name": "stdout",
          "text": [
            "Failed to download https://fbcdn-sphotos-a-a.akamaihd.net/hphotos-ak-frc1/t1.0-9/1966935_10154025097980347_2026597123_n.jpg: HTTPSConnectionPool(host='fbcdn-sphotos-a-a.akamaihd.net', port=443): Max retries exceeded with url: /hphotos-ak-frc1/t1.0-9/1966935_10154025097980347_2026597123_n.jpg (Caused by NameResolutionError(\"<urllib3.connection.HTTPSConnection object at 0x7dde0496bbe0>: Failed to resolve 'fbcdn-sphotos-a-a.akamaihd.net' ([Errno -2] Name or service not known)\"))\n",
            "Failed to download https://fbcdn-sphotos-a-a.akamaihd.net/hphotos-ak-prn2/10602_10151203617901805_1414363018_n.jpg: HTTPSConnectionPool(host='fbcdn-sphotos-a-a.akamaihd.net', port=443): Max retries exceeded with url: /hphotos-ak-prn2/10602_10151203617901805_1414363018_n.jpg (Caused by NameResolutionError(\"<urllib3.connection.HTTPSConnection object at 0x7dde05629cf0>: Failed to resolve 'fbcdn-sphotos-a-a.akamaihd.net' ([Errno -2] Name or service not known)\"))\n",
            "Failed to download https://fbcdn-sphotos-c-a.akamaihd.net/hphotos-ak-frc1/311240_1967709394387_912865496_n.jpg: HTTPSConnectionPool(host='fbcdn-sphotos-c-a.akamaihd.net', port=443): Max retries exceeded with url: /hphotos-ak-frc1/311240_1967709394387_912865496_n.jpg (Caused by NameResolutionError(\"<urllib3.connection.HTTPSConnection object at 0x7dde05628490>: Failed to resolve 'fbcdn-sphotos-c-a.akamaihd.net' ([Errno -2] Name or service not known)\"))\n"
          ]
        },
        {
          "output_type": "stream",
          "name": "stderr",
          "text": [
            "\rDownloading neutral images:  22%|██▏       | 7985/36837 [08:06<1:02:20,  7.71it/s]"
          ]
        },
        {
          "output_type": "stream",
          "name": "stdout",
          "text": [
            "Failed to download https://fbcdn-sphotos-g-a.akamaihd.net/hphotos-ak-ash3/1175428_583187145055687_859982135_n.jpg: HTTPSConnectionPool(host='fbcdn-sphotos-g-a.akamaihd.net', port=443): Max retries exceeded with url: /hphotos-ak-ash3/1175428_583187145055687_859982135_n.jpg (Caused by NameResolutionError(\"<urllib3.connection.HTTPSConnection object at 0x7dde063201c0>: Failed to resolve 'fbcdn-sphotos-g-a.akamaihd.net' ([Errno -2] Name or service not known)\"))\n",
            "Failed to download https://fbcdn-sphotos-g-a.akamaihd.net/hphotos-ak-ash4/474499_10102431825284531_739985235_o.jpg: HTTPSConnectionPool(host='fbcdn-sphotos-g-a.akamaihd.net', port=443): Max retries exceeded with url: /hphotos-ak-ash4/474499_10102431825284531_739985235_o.jpg (Caused by NameResolutionError(\"<urllib3.connection.HTTPSConnection object at 0x7dde049689a0>: Failed to resolve 'fbcdn-sphotos-g-a.akamaihd.net' ([Errno -2] Name or service not known)\"))\n",
            "Failed to download https://fbcdn-sphotos-h-a.akamaihd.net/hphotos-ak-ash4/377312_10151036863041805_1207223595_n.jpg: HTTPSConnectionPool(host='fbcdn-sphotos-h-a.akamaihd.net', port=443): Max retries exceeded with url: /hphotos-ak-ash4/377312_10151036863041805_1207223595_n.jpg (Caused by NameResolutionError(\"<urllib3.connection.HTTPSConnection object at 0x7dde0496bc40>: Failed to resolve 'fbcdn-sphotos-h-a.akamaihd.net' ([Errno -2] Name or service not known)\"))\n",
            "Failed to download https://fbcdn-sphotos-h-a.akamaihd.net/hphotos-ak-xpf1/v/t34.0-12/10529595_10204087749854686_338903138_n.jpg?oh=9dd94e043a113f5863d1069c4159e927&amp;oe=53BE6AF3&amp;__gda__=1404978183_5c3fd3b0a65d8b960991bbf22e4ad5de: HTTPSConnectionPool(host='fbcdn-sphotos-h-a.akamaihd.net', port=443): Max retries exceeded with url: /hphotos-ak-xpf1/v/t34.0-12/10529595_10204087749854686_338903138_n.jpg?oh=9dd94e043a113f5863d1069c4159e927&amp;oe=53BE6AF3&amp;__gda__=1404978183_5c3fd3b0a65d8b960991bbf22e4ad5de (Caused by NameResolutionError(\"<urllib3.connection.HTTPSConnection object at 0x7dde04968fd0>: Failed to resolve 'fbcdn-sphotos-h-a.akamaihd.net' ([Errno -2] Name or service not known)\"))\n"
          ]
        },
        {
          "output_type": "stream",
          "name": "stderr",
          "text": [
            "Downloading neutral images:  99%|█████████▉| 36427/36837 [40:06<00:39, 10.25it/s]"
          ]
        },
        {
          "output_type": "stream",
          "name": "stdout",
          "text": [
            "Failed to download https://i.sli.mg/mwl3jS.jpg: HTTPSConnectionPool(host='i.sli.mg', port=443): Max retries exceeded with url: /mwl3jS.jpg (Caused by NameResolutionError(\"<urllib3.connection.HTTPSConnection object at 0x7dde04968df0>: Failed to resolve 'i.sli.mg' ([Errno -2] Name or service not known)\"))\n",
            "Failed to download https://i.sli.mg/v2rSBv.jpg: HTTPSConnectionPool(host='i.sli.mg', port=443): Max retries exceeded with url: /v2rSBv.jpg (Caused by NameResolutionError(\"<urllib3.connection.HTTPSConnection object at 0x7dde0496ad70>: Failed to resolve 'i.sli.mg' ([Errno -2] Name or service not known)\"))\n"
          ]
        },
        {
          "output_type": "stream",
          "name": "stderr",
          "text": [
            "Downloading neutral images:  99%|█████████▉| 36489/36837 [42:22<1:25:59, 14.83s/it]"
          ]
        },
        {
          "output_type": "stream",
          "name": "stdout",
          "text": [
            "Failed to download https://imgoat.com/uploads/0efdf2ec9b/16321.jpg: HTTPSConnectionPool(host='imgoat.com', port=443): Max retries exceeded with url: /uploads/0efdf2ec9b/16321.jpg (Caused by ConnectTimeoutError(<urllib3.connection.HTTPSConnection object at 0x7dde04968eb0>, 'Connection to imgoat.com timed out. (connect timeout=None)'))\n"
          ]
        },
        {
          "output_type": "stream",
          "name": "stderr",
          "text": [
            "Downloading neutral images:  99%|█████████▉| 36632/36837 [42:34<01:08,  2.98it/s]"
          ]
        },
        {
          "output_type": "stream",
          "name": "stdout",
          "text": [
            "Failed to download https://instagram.flhr3-2.fna.fbcdn.net/vp/176774d87ced6f1bf9d3764062220c12/5B97DFB0/t51.2885-15/e35/22426903_138949143314176_6498167630585659392_n.jpg: HTTPSConnectionPool(host='instagram.flhr3-2.fna.fbcdn.net', port=443): Max retries exceeded with url: /vp/176774d87ced6f1bf9d3764062220c12/5B97DFB0/t51.2885-15/e35/22426903_138949143314176_6498167630585659392_n.jpg (Caused by NameResolutionError(\"<urllib3.connection.HTTPSConnection object at 0x7dde0562bbe0>: Failed to resolve 'instagram.flhr3-2.fna.fbcdn.net' ([Errno -2] Name or service not known)\"))\n"
          ]
        },
        {
          "output_type": "stream",
          "name": "stderr",
          "text": [
            "Downloading neutral images:  99%|█████████▉| 36649/36837 [42:37<00:23,  7.93it/s]"
          ]
        },
        {
          "output_type": "stream",
          "name": "stdout",
          "text": [
            "Failed to download https://media.novinky.cz/970/669700-top_foto1-kedl3.jpg?1519639205: HTTPSConnectionPool(host='media.novinky.cz', port=443): Max retries exceeded with url: /970/669700-top_foto1-kedl3.jpg?1519639205 (Caused by NameResolutionError(\"<urllib3.connection.HTTPSConnection object at 0x7dde0496bc10>: Failed to resolve 'media.novinky.cz' ([Errno -2] Name or service not known)\"))\n"
          ]
        },
        {
          "output_type": "stream",
          "name": "stderr",
          "text": [
            "Downloading neutral images: 100%|█████████▉| 36772/36837 [42:53<00:06, 10.79it/s]"
          ]
        },
        {
          "output_type": "stream",
          "name": "stdout",
          "text": [
            "Failed to download https://scontent-ams3-1.cdninstagram.com/vp/1292984dcba017846c6e231817348269/5CAFCF22/t51.2885-15/e35/45282007_713286469042089_2838405428716543049_n.jpg: HTTPSConnectionPool(host='scontent-ams3-1.cdninstagram.com', port=443): Max retries exceeded with url: /vp/1292984dcba017846c6e231817348269/5CAFCF22/t51.2885-15/e35/45282007_713286469042089_2838405428716543049_n.jpg (Caused by NameResolutionError(\"<urllib3.connection.HTTPSConnection object at 0x7dde0496bb20>: Failed to resolve 'scontent-ams3-1.cdninstagram.com' ([Errno -2] Name or service not known)\"))\n",
            "Failed to download https://scontent-ams3-1.cdninstagram.com/vp/da0453990c3ab0ad4b14285f253c30f2/5CE31D8F/t51.2885-15/e35/38295955_229659940942349_1052782151667286016_n.jpg?_nc_ht=scontent-ams3-1.cdninstagram.com: HTTPSConnectionPool(host='scontent-ams3-1.cdninstagram.com', port=443): Max retries exceeded with url: /vp/da0453990c3ab0ad4b14285f253c30f2/5CE31D8F/t51.2885-15/e35/38295955_229659940942349_1052782151667286016_n.jpg?_nc_ht=scontent-ams3-1.cdninstagram.com (Caused by NameResolutionError(\"<urllib3.connection.HTTPSConnection object at 0x7dde0496a410>: Failed to resolve 'scontent-ams3-1.cdninstagram.com' ([Errno -2] Name or service not known)\"))\n"
          ]
        },
        {
          "output_type": "stream",
          "name": "stderr",
          "text": [
            "\rDownloading neutral images: 100%|█████████▉| 36774/36837 [42:53<00:06,  9.18it/s]"
          ]
        },
        {
          "output_type": "stream",
          "name": "stdout",
          "text": [
            "Failed to download https://scontent-ort2-1.xx.fbcdn.net/v/t31.0-8/fr/cp0/e15/q65/20861935_10102215660291011_5176404238311029272_o.jpg?efg=eyJpIjoidCJ9&amp;oh=a93b9d048afd68e4ef49faab439672e9&amp;oe=5A1CE1CC: HTTPSConnectionPool(host='scontent-ort2-1.xx.fbcdn.net', port=443): Max retries exceeded with url: /v/t31.0-8/fr/cp0/e15/q65/20861935_10102215660291011_5176404238311029272_o.jpg?efg=eyJpIjoidCJ9&amp;oh=a93b9d048afd68e4ef49faab439672e9&amp;oe=5A1CE1CC (Caused by NameResolutionError(\"<urllib3.connection.HTTPSConnection object at 0x7dde05629510>: Failed to resolve 'scontent-ort2-1.xx.fbcdn.net' ([Errno -2] Name or service not known)\"))\n"
          ]
        },
        {
          "output_type": "stream",
          "name": "stderr",
          "text": [
            "\rDownloading neutral images: 100%|█████████▉| 36776/36837 [42:54<00:09,  6.25it/s]"
          ]
        },
        {
          "output_type": "stream",
          "name": "stdout",
          "text": [
            "Failed to download https://sphotos-a.xx.fbcdn.net/hphotos-prn1/545435_10151236136853630_1252918571_n.jpg: HTTPSConnectionPool(host='sphotos-a.xx.fbcdn.net', port=443): Max retries exceeded with url: /hphotos-prn1/545435_10151236136853630_1252918571_n.jpg (Caused by NameResolutionError(\"<urllib3.connection.HTTPSConnection object at 0x7dde04968160>: Failed to resolve 'sphotos-a.xx.fbcdn.net' ([Errno -2] Name or service not known)\"))\n"
          ]
        },
        {
          "output_type": "stream",
          "name": "stderr",
          "text": [
            "Downloading neutral images: 100%|██████████| 36837/36837 [43:11<00:00, 14.21it/s]\n"
          ]
        },
        {
          "output_type": "stream",
          "name": "stdout",
          "text": [
            "Zipping and downloading neutral images...\n"
          ]
        },
        {
          "output_type": "display_data",
          "data": {
            "text/plain": [
              "<IPython.core.display.Javascript object>"
            ],
            "application/javascript": [
              "\n",
              "    async function download(id, filename, size) {\n",
              "      if (!google.colab.kernel.accessAllowed) {\n",
              "        return;\n",
              "      }\n",
              "      const div = document.createElement('div');\n",
              "      const label = document.createElement('label');\n",
              "      label.textContent = `Downloading \"${filename}\": `;\n",
              "      div.appendChild(label);\n",
              "      const progress = document.createElement('progress');\n",
              "      progress.max = size;\n",
              "      div.appendChild(progress);\n",
              "      document.body.appendChild(div);\n",
              "\n",
              "      const buffers = [];\n",
              "      let downloaded = 0;\n",
              "\n",
              "      const channel = await google.colab.kernel.comms.open(id);\n",
              "      // Send a message to notify the kernel that we're ready.\n",
              "      channel.send({})\n",
              "\n",
              "      for await (const message of channel.messages) {\n",
              "        // Send a message to notify the kernel that we're ready.\n",
              "        channel.send({})\n",
              "        if (message.buffers) {\n",
              "          for (const buffer of message.buffers) {\n",
              "            buffers.push(buffer);\n",
              "            downloaded += buffer.byteLength;\n",
              "            progress.value = downloaded;\n",
              "          }\n",
              "        }\n",
              "      }\n",
              "      const blob = new Blob(buffers, {type: 'application/binary'});\n",
              "      const a = document.createElement('a');\n",
              "      a.href = window.URL.createObjectURL(blob);\n",
              "      a.download = filename;\n",
              "      div.appendChild(a);\n",
              "      a.click();\n",
              "      div.remove();\n",
              "    }\n",
              "  "
            ]
          },
          "metadata": {}
        },
        {
          "output_type": "display_data",
          "data": {
            "text/plain": [
              "<IPython.core.display.Javascript object>"
            ],
            "application/javascript": [
              "download(\"download_681bf54d-2dca-4c39-a221-4a00fb7548f0\", \"neutral_images.zip\", 11884743079)"
            ]
          },
          "metadata": {}
        },
        {
          "output_type": "stream",
          "name": "stderr",
          "text": [
            "Downloading porn images:   6%|▌         | 25/453 [00:06<00:54,  7.89it/s]"
          ]
        },
        {
          "output_type": "stream",
          "name": "stdout",
          "text": [
            "Failed to download : Invalid URL '': No scheme supplied. Perhaps you meant https://?\n"
          ]
        },
        {
          "output_type": "stream",
          "name": "stderr",
          "text": [
            "Downloading porn images: 100%|██████████| 453/453 [01:09<00:00,  6.55it/s]\n"
          ]
        },
        {
          "output_type": "stream",
          "name": "stdout",
          "text": [
            "Failed to download https://secure2-images-tushy.ssl-cdn.com/videoimages/100215/mainLandscape/1544455619732/tushy-step-sister-tries-anal-with-her-brother_1920x1080.jpeg?nvb=20191107145725&amp;nva=20191113150025&amp;hash=0ee6dcd52bbc7eadd13c2: HTTPSConnectionPool(host='secure2-images-tushy.ssl-cdn.com', port=443): Max retries exceeded with url: /videoimages/100215/mainLandscape/1544455619732/tushy-step-sister-tries-anal-with-her-brother_1920x1080.jpeg?nvb=20191107145725&amp;nva=20191113150025&amp;hash=0ee6dcd52bbc7eadd13c2 (Caused by NameResolutionError(\"<urllib3.connection.HTTPSConnection object at 0x7dde04968d00>: Failed to resolve 'secure2-images-tushy.ssl-cdn.com' ([Errno -2] Name or service not known)\"))\n",
            "Zipping and downloading porn images...\n"
          ]
        },
        {
          "output_type": "display_data",
          "data": {
            "text/plain": [
              "<IPython.core.display.Javascript object>"
            ],
            "application/javascript": [
              "\n",
              "    async function download(id, filename, size) {\n",
              "      if (!google.colab.kernel.accessAllowed) {\n",
              "        return;\n",
              "      }\n",
              "      const div = document.createElement('div');\n",
              "      const label = document.createElement('label');\n",
              "      label.textContent = `Downloading \"${filename}\": `;\n",
              "      div.appendChild(label);\n",
              "      const progress = document.createElement('progress');\n",
              "      progress.max = size;\n",
              "      div.appendChild(progress);\n",
              "      document.body.appendChild(div);\n",
              "\n",
              "      const buffers = [];\n",
              "      let downloaded = 0;\n",
              "\n",
              "      const channel = await google.colab.kernel.comms.open(id);\n",
              "      // Send a message to notify the kernel that we're ready.\n",
              "      channel.send({})\n",
              "\n",
              "      for await (const message of channel.messages) {\n",
              "        // Send a message to notify the kernel that we're ready.\n",
              "        channel.send({})\n",
              "        if (message.buffers) {\n",
              "          for (const buffer of message.buffers) {\n",
              "            buffers.push(buffer);\n",
              "            downloaded += buffer.byteLength;\n",
              "            progress.value = downloaded;\n",
              "          }\n",
              "        }\n",
              "      }\n",
              "      const blob = new Blob(buffers, {type: 'application/binary'});\n",
              "      const a = document.createElement('a');\n",
              "      a.href = window.URL.createObjectURL(blob);\n",
              "      a.download = filename;\n",
              "      div.appendChild(a);\n",
              "      a.click();\n",
              "      div.remove();\n",
              "    }\n",
              "  "
            ]
          },
          "metadata": {}
        },
        {
          "output_type": "display_data",
          "data": {
            "text/plain": [
              "<IPython.core.display.Javascript object>"
            ],
            "application/javascript": [
              "download(\"download_428f71e6-84c3-4e73-8bd8-1a30bf1aa91c\", \"porn_images.zip\", 76001663)"
            ]
          },
          "metadata": {}
        },
        {
          "output_type": "stream",
          "name": "stderr",
          "text": [
            "Downloading sexy images:   0%|          | 23/5334 [00:08<26:36,  3.33it/s]"
          ]
        },
        {
          "output_type": "stream",
          "name": "stdout",
          "text": [
            "Failed to download http://4u-beautyimg.com/s/l/5c52db42b6819ba5dd2c9e6d5dfe1688.jpg: ('Connection aborted.', RemoteDisconnected('Remote end closed connection without response'))\n"
          ]
        },
        {
          "output_type": "stream",
          "name": "stderr",
          "text": [
            "Downloading sexy images:   1%|          | 36/5334 [00:13<26:33,  3.32it/s]"
          ]
        },
        {
          "output_type": "stream",
          "name": "stdout",
          "text": [
            "Failed to download http://data1.whicdn.com/images/109157119/original.jpg: HTTPConnectionPool(host='data1.whicdn.com', port=80): Max retries exceeded with url: /images/109157119/original.jpg (Caused by NameResolutionError(\"<urllib3.connection.HTTPConnection object at 0x7dde0496a590>: Failed to resolve 'data1.whicdn.com' ([Errno -2] Name or service not known)\"))\n"
          ]
        },
        {
          "output_type": "stream",
          "name": "stderr",
          "text": [
            "Downloading sexy images:   1%|          | 38/5334 [00:13<23:36,  3.74it/s]"
          ]
        },
        {
          "output_type": "stream",
          "name": "stdout",
          "text": [
            "Failed to download http://heavensilver.ddo.jp/goku/107376_9148/0020.jpg: HTTPConnectionPool(host='heavensilver.ddo.jp', port=80): Max retries exceeded with url: /goku/107376_9148/0020.jpg (Caused by NameResolutionError(\"<urllib3.connection.HTTPConnection object at 0x7dde056299c0>: Failed to resolve 'heavensilver.ddo.jp' ([Errno -2] Name or service not known)\"))\n"
          ]
        },
        {
          "output_type": "stream",
          "name": "stderr",
          "text": [
            "Downloading sexy images:   1%|          | 44/5334 [00:15<21:35,  4.08it/s]"
          ]
        },
        {
          "output_type": "stream",
          "name": "stdout",
          "text": [
            "Failed to download http://marticleimage.nicoblomaga.jp/image/20/2014/a/5/a5de73ffb33391147a384d07f862acad8dbd35dd1405532033.jpg: HTTPConnectionPool(host='marticleimage.nicoblomaga.jp', port=80): Max retries exceeded with url: /image/20/2014/a/5/a5de73ffb33391147a384d07f862acad8dbd35dd1405532033.jpg (Caused by NameResolutionError(\"<urllib3.connection.HTTPConnection object at 0x7dde056280a0>: Failed to resolve 'marticleimage.nicoblomaga.jp' ([Errno -2] Name or service not known)\"))\n"
          ]
        },
        {
          "output_type": "stream",
          "name": "stderr",
          "text": [
            "\rDownloading sexy images:   1%|          | 46/5334 [00:15<19:17,  4.57it/s]"
          ]
        },
        {
          "output_type": "stream",
          "name": "stdout",
          "text": [
            "Failed to download http://pub.nettavisen.no/multimedia/na/archive/01225/Maiken_Skoie_Brust_1225157a.jpg: HTTPConnectionPool(host='pub.nettavisen.no', port=80): Max retries exceeded with url: /multimedia/na/archive/01225/Maiken_Skoie_Brust_1225157a.jpg (Caused by NameResolutionError(\"<urllib3.connection.HTTPConnection object at 0x7dde0681a710>: Failed to resolve 'pub.nettavisen.no' ([Errno -2] Name or service not known)\"))\n"
          ]
        },
        {
          "output_type": "stream",
          "name": "stderr",
          "text": [
            "Downloading sexy images:   1%|          | 53/5334 [00:19<36:16,  2.43it/s]  "
          ]
        },
        {
          "output_type": "stream",
          "name": "stdout",
          "text": [
            "Failed to download http://www.funny22.com/wp-content/uploads/2012/06/bikini11.jpg: HTTPConnectionPool(host='www.funny22.com', port=80): Max retries exceeded with url: /wp-content/uploads/2012/06/bikini11.jpg (Caused by NameResolutionError(\"<urllib3.connection.HTTPConnection object at 0x7dde05629e40>: Failed to resolve 'www.funny22.com' ([Errno -2] Name or service not known)\"))\n"
          ]
        },
        {
          "output_type": "stream",
          "name": "stderr",
          "text": [
            "Downloading sexy images:   2%|▏         | 87/5334 [03:01<57:51:41, 39.70s/it]"
          ]
        },
        {
          "output_type": "stream",
          "name": "stdout",
          "text": [
            "Failed to download https://i.postimg.cc/2jKjkB8Y/66208393-175973343432653-2156537010249866760-n.jpg: HTTPSConnectionPool(host='i.postimg.cc', port=443): Max retries exceeded with url: /2jKjkB8Y/66208393-175973343432653-2156537010249866760-n.jpg (Caused by ConnectTimeoutError(<urllib3.connection.HTTPSConnection object at 0x7dde0496a740>, 'Connection to i.postimg.cc timed out. (connect timeout=None)'))\n"
          ]
        },
        {
          "output_type": "stream",
          "name": "stderr",
          "text": [
            "Downloading sexy images: 100%|█████████▉| 5321/5334 [15:13<00:01,  7.53it/s]"
          ]
        },
        {
          "output_type": "stream",
          "name": "stdout",
          "text": [
            "Failed to download https://i.sli.mg/4WKfWs.jpg: HTTPSConnectionPool(host='i.sli.mg', port=443): Max retries exceeded with url: /4WKfWs.jpg (Caused by NameResolutionError(\"<urllib3.connection.HTTPSConnection object at 0x7dde04968ee0>: Failed to resolve 'i.sli.mg' ([Errno -2] Name or service not known)\"))\n",
            "Failed to download https://i.sli.mg/7VbE0Y.jpg: HTTPSConnectionPool(host='i.sli.mg', port=443): Max retries exceeded with url: /7VbE0Y.jpg (Caused by NameResolutionError(\"<urllib3.connection.HTTPSConnection object at 0x7dde0496afb0>: Failed to resolve 'i.sli.mg' ([Errno -2] Name or service not known)\"))\n",
            "Failed to download https://i.sli.mg/LjUChF.jpg: HTTPSConnectionPool(host='i.sli.mg', port=443): Max retries exceeded with url: /LjUChF.jpg (Caused by NameResolutionError(\"<urllib3.connection.HTTPSConnection object at 0x7dde056299c0>: Failed to resolve 'i.sli.mg' ([Errno -2] Name or service not known)\"))\n",
            "Failed to download https://i.sli.mg/nEQx7a.jpg: HTTPSConnectionPool(host='i.sli.mg', port=443): Max retries exceeded with url: /nEQx7a.jpg (Caused by NameResolutionError(\"<urllib3.connection.HTTPSConnection object at 0x7dde05629c60>: Failed to resolve 'i.sli.mg' ([Errno -2] Name or service not known)\"))\n"
          ]
        },
        {
          "output_type": "stream",
          "name": "stderr",
          "text": [
            "Downloading sexy images: 100%|█████████▉| 5332/5334 [15:15<00:00,  6.20it/s]"
          ]
        },
        {
          "output_type": "stream",
          "name": "stdout",
          "text": [
            "Failed to download https://scontent-lhr3-1.cdninstagram.com/vp/a0c50ca3009d57376f33e0d2174d42dc/5D9A7D3A/t51.2885-15/e35/p1080x1080/60623397_183253465998124_1214561337544968627_n.jpg?_nc_ht=scontent-lhr3-1.cdninstagram.com: HTTPSConnectionPool(host='scontent-lhr3-1.cdninstagram.com', port=443): Max retries exceeded with url: /vp/a0c50ca3009d57376f33e0d2174d42dc/5D9A7D3A/t51.2885-15/e35/p1080x1080/60623397_183253465998124_1214561337544968627_n.jpg?_nc_ht=scontent-lhr3-1.cdninstagram.com (Caused by NameResolutionError(\"<urllib3.connection.HTTPSConnection object at 0x7dde0562bfa0>: Failed to resolve 'scontent-lhr3-1.cdninstagram.com' ([Errno -2] Name or service not known)\"))\n"
          ]
        },
        {
          "output_type": "stream",
          "name": "stderr",
          "text": [
            "Downloading sexy images: 100%|██████████| 5334/5334 [15:15<00:00,  5.83it/s]\n"
          ]
        },
        {
          "output_type": "stream",
          "name": "stdout",
          "text": [
            "Zipping and downloading sexy images...\n"
          ]
        },
        {
          "output_type": "display_data",
          "data": {
            "text/plain": [
              "<IPython.core.display.Javascript object>"
            ],
            "application/javascript": [
              "\n",
              "    async function download(id, filename, size) {\n",
              "      if (!google.colab.kernel.accessAllowed) {\n",
              "        return;\n",
              "      }\n",
              "      const div = document.createElement('div');\n",
              "      const label = document.createElement('label');\n",
              "      label.textContent = `Downloading \"${filename}\": `;\n",
              "      div.appendChild(label);\n",
              "      const progress = document.createElement('progress');\n",
              "      progress.max = size;\n",
              "      div.appendChild(progress);\n",
              "      document.body.appendChild(div);\n",
              "\n",
              "      const buffers = [];\n",
              "      let downloaded = 0;\n",
              "\n",
              "      const channel = await google.colab.kernel.comms.open(id);\n",
              "      // Send a message to notify the kernel that we're ready.\n",
              "      channel.send({})\n",
              "\n",
              "      for await (const message of channel.messages) {\n",
              "        // Send a message to notify the kernel that we're ready.\n",
              "        channel.send({})\n",
              "        if (message.buffers) {\n",
              "          for (const buffer of message.buffers) {\n",
              "            buffers.push(buffer);\n",
              "            downloaded += buffer.byteLength;\n",
              "            progress.value = downloaded;\n",
              "          }\n",
              "        }\n",
              "      }\n",
              "      const blob = new Blob(buffers, {type: 'application/binary'});\n",
              "      const a = document.createElement('a');\n",
              "      a.href = window.URL.createObjectURL(blob);\n",
              "      a.download = filename;\n",
              "      div.appendChild(a);\n",
              "      a.click();\n",
              "      div.remove();\n",
              "    }\n",
              "  "
            ]
          },
          "metadata": {}
        },
        {
          "output_type": "display_data",
          "data": {
            "text/plain": [
              "<IPython.core.display.Javascript object>"
            ],
            "application/javascript": [
              "download(\"download_77250eee-d0b4-4782-8d1a-695758e1c913\", \"sexy_images.zip\", 1145716110)"
            ]
          },
          "metadata": {}
        }
      ],
      "source": [
        "for category in categories:\n",
        "    download_and_organize_images(category)"
      ]
    }
  ],
  "metadata": {
    "colab": {
      "provenance": []
    },
    "kernelspec": {
      "display_name": "Python 3",
      "name": "python3"
    },
    "language_info": {
      "name": "python"
    }
  },
  "nbformat": 4,
  "nbformat_minor": 0
}